{
 "cells": [
  {
   "cell_type": "code",
   "execution_count": 1,
   "id": "f39ef0cb",
   "metadata": {},
   "outputs": [
    {
     "name": "stdout",
     "output_type": "stream",
     "text": [
      "Best route: [1, 0, 2, 3]\n",
      "Shortest distance: 80\n"
     ]
    },
    {
     "name": "stderr",
     "output_type": "stream",
     "text": [
      "C:\\Users\\Vridhi\\AppData\\Local\\Temp\\ipykernel_420\\261243201.py:24: RuntimeWarning: divide by zero encountered in true_divide\n",
      "  visibility = 1 / distance_matrix  # Visibility matrix (inverse of distance)\n"
     ]
    }
   ],
   "source": [
    "import numpy as np\n",
    "import random\n",
    " \n",
    "# Define the distance matrix (distances between cities)\n",
    "# Replace this with your distance matrix or generate one based on your problem\n",
    "# Example distance matrix (replace this with your actual data)\n",
    "distance_matrix = np.array([\n",
    "    [0, 10, 15, 20],\n",
    "    [10, 0, 35, 25],\n",
    "    [15, 35, 0, 30],\n",
    "    [20, 25, 30, 0]\n",
    "])\n",
    " \n",
    "# Parameters for Ant Colony Optimization\n",
    "num_ants = 10\n",
    "num_iterations = 50\n",
    "evaporation_rate = 0.5\n",
    "pheromone_constant = 1.0\n",
    "heuristic_constant = 1.0\n",
    " \n",
    "# Initialize pheromone matrix and visibility matrix\n",
    "num_cities = len(distance_matrix)\n",
    "pheromone = np.ones((num_cities, num_cities))  # Pheromone matrix\n",
    "visibility = 1 / distance_matrix  # Visibility matrix (inverse of distance)\n",
    " \n",
    "# ACO algorithm\n",
    "for iteration in range(num_iterations):\n",
    "    ant_routes = []\n",
    "    for ant in range(num_ants):\n",
    "        current_city = random.randint(0, num_cities - 1)\n",
    "        visited_cities = [current_city]\n",
    "        route = [current_city]\n",
    "        \n",
    "        while len(visited_cities) < num_cities:\n",
    "            probabilities = []\n",
    "            for city in range(num_cities):\n",
    "                if city not in visited_cities:\n",
    "                    pheromone_value = pheromone[current_city][city]\n",
    "                    visibility_value = visibility[current_city][city]\n",
    "                    probability = (pheromone_value ** pheromone_constant) * (visibility_value ** heuristic_constant)\n",
    "                    probabilities.append((city, probability))\n",
    "            \n",
    "            probabilities = sorted(probabilities, key=lambda x: x[1], reverse=True)\n",
    "            selected_city = probabilities[0][0]\n",
    "            route.append(selected_city)\n",
    "            visited_cities.append(selected_city)\n",
    "            current_city = selected_city\n",
    "        \n",
    "        ant_routes.append(route)\n",
    "    \n",
    "    # Update pheromone levels\n",
    "    delta_pheromone = np.zeros((num_cities, num_cities))\n",
    "    for ant, route in enumerate(ant_routes):\n",
    "        for i in range(len(route) - 1):\n",
    "            city_a = route[i]\n",
    "            city_b = route[i + 1]\n",
    "            delta_pheromone[city_a][city_b] += 1 / distance_matrix[city_a][city_b]\n",
    "            delta_pheromone[city_b][city_a] += 1 / distance_matrix[city_a][city_b]\n",
    "    \n",
    "    pheromone = (1 - evaporation_rate) * pheromone + delta_pheromone\n",
    " \n",
    "# Find the best route\n",
    "best_route_index = np.argmax([sum(distance_matrix[cities[i]][cities[(i + 1) % num_cities]] for i in range(num_cities)) for cities in ant_routes])\n",
    "best_route = ant_routes[best_route_index]\n",
    "shortest_distance = sum(distance_matrix[best_route[i]][best_route[(i + 1) % num_cities]] for i in range(num_cities))\n",
    "\n",
    "print(\"Best route:\", best_route)\n",
    "print(\"Shortest distance:\", shortest_distance)"
   ]
  },
  {
   "cell_type": "code",
   "execution_count": null,
   "id": "91e9ccc3",
   "metadata": {},
   "outputs": [],
   "source": []
  }
 ],
 "metadata": {
  "kernelspec": {
   "display_name": "Python 3 (ipykernel)",
   "language": "python",
   "name": "python3"
  },
  "language_info": {
   "codemirror_mode": {
    "name": "ipython",
    "version": 3
   },
   "file_extension": ".py",
   "mimetype": "text/x-python",
   "name": "python",
   "nbconvert_exporter": "python",
   "pygments_lexer": "ipython3",
   "version": "3.9.13"
  }
 },
 "nbformat": 4,
 "nbformat_minor": 5
}
